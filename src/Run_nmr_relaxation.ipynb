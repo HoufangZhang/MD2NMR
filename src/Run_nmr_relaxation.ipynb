{
 "cells": [
  {
   "cell_type": "code",
   "execution_count": 19,
   "id": "920cd8f4-2aa4-4352-8976-575fdc96dcb4",
   "metadata": {},
   "outputs": [],
   "source": [
    "import numpy as np\n",
    "import pandas as pd\n",
    "import config\n",
    "import argparse\n",
    "import os\n",
    "import shutil\n",
    "\n",
    "from math import sqrt\n",
    "from util import *\n",
    "from md2nmr import *\n",
    "\n"
   ]
  },
  {
   "cell_type": "code",
   "execution_count": 33,
   "id": "1ae12645-5d2e-43bd-b2be-d3355ad18692",
   "metadata": {},
   "outputs": [],
   "source": [
    "def main(batch, topo=None, traj=None):\n",
    "    print(\"###############    Software starting now.    ###############\")\n",
    "    print(\"Input arguments and config currently using:\")\n",
    "    print(f\"batch: {batch}\")\n",
    "    if not batch:\n",
    "        print(f\"topo: {topo}\")\n",
    "        print(f\"traj: {traj}\")\n",
    "\n",
    "    for key, value in config.__dict__.items():\n",
    "        if not key.startswith(\"__\"):\n",
    "            print(f\"{key}: {value}\")\n",
    "\n",
    "    print(\"###############    Calculation starting...    ###############\")\n",
    "    \n",
    "    if batch:\n",
    "        print('Calculation using batch style.')\n",
    "        print('Following files will be used in calculation:')\n",
    "        print([os.path.join(wd, prefix + '.pdb') for prefix in config.prefix_list])\n",
    "        \n",
    "        for prefix in config.prefix_list:\n",
    "            print(f'Generating NMR relaxation for: {prefix}')\n",
    "            FTOPN = os.path.join(wd, prefix + '.pdb')\n",
    "            FMDN = os.path.join(wd, prefix + '.xtc')\n",
    "            gen_nmr_relaxation(FTOPN, FMDN, prefix)\n",
    "    else:\n",
    "        print('Calculation using single traj style.')\n",
    "        FTOPN = os.path.join(wd, str(topo))\n",
    "        FMDN = os.path.join(wd, str(traj))\n",
    "        prefix = traj[:-4] #define the prefix for output files.\n",
    "        gen_nmr_relaxation(FTOPN, FMDN, prefix)\n",
    "\n",
    "    print(\"###############    Calculation completed. Software exiting...    ###############\")"
   ]
  },
  {
   "cell_type": "code",
   "execution_count": 35,
   "id": "21aece1a-fd55-48da-9fbf-bf56b8be22ec",
   "metadata": {},
   "outputs": [],
   "source": [
    "batch_mode = False\n",
    "topo_file = 'vanilla_run1.pdb'\n",
    "traj_file = 'vanilla_run1.xtc'"
   ]
  },
  {
   "cell_type": "code",
   "execution_count": 37,
   "id": "3150b569-80d6-4bf8-b819-909c7a7fd778",
   "metadata": {},
   "outputs": [
    {
     "name": "stdout",
     "output_type": "stream",
     "text": [
      "###############    Software starting now.    ###############\n",
      "Input arguments and config currently using:\n",
      "batch: False\n",
      "topo: vanilla_run1.pdb\n",
      "traj: vanilla_run1.xtc\n",
      "n_split: 20\n",
      "tau_max: 1.8\n",
      "B0: 14.1\n",
      "resid: [[0, 10]]\n",
      "use_chain_ids: False\n",
      "chain_ids: ['C', 'G']\n",
      "wd: ../data/\n",
      "od: ../data/\n",
      "dt: 100\n",
      "n_exp: 3\n",
      "use_align: True\n",
      "tumbling_time: None\n",
      "prefix_list: ['vanilla_run1']\n",
      "###############    Calculation starting...    ###############\n",
      "Calculation using single traj style.\n",
      "Loading trajectory...\n",
      "Trajectory loaded.\n",
      "Aligning trajectory...\n",
      "Alignment completed.\n",
      "Total frames of MD trajectory loaded:  22406\n",
      "vec shape after split: (20, 1120, 11, 3)\n",
      "###############    Calculation completed. Software exiting...    ###############\n"
     ]
    }
   ],
   "source": [
    "main(batch=batch_mode, topo=topo_file, traj=traj_file)"
   ]
  },
  {
   "cell_type": "code",
   "execution_count": null,
   "id": "1fd873c6-1604-43dd-8bff-dc05fddfe145",
   "metadata": {},
   "outputs": [],
   "source": []
  }
 ],
 "metadata": {
  "kernelspec": {
   "display_name": "Python [conda env:base] *",
   "language": "python",
   "name": "conda-base-py"
  },
  "language_info": {
   "codemirror_mode": {
    "name": "ipython",
    "version": 3
   },
   "file_extension": ".py",
   "mimetype": "text/x-python",
   "name": "python",
   "nbconvert_exporter": "python",
   "pygments_lexer": "ipython3",
   "version": "3.10.14"
  }
 },
 "nbformat": 4,
 "nbformat_minor": 5
}
