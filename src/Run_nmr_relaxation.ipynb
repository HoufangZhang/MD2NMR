{
 "cells": [
  {
   "cell_type": "code",
   "execution_count": 1,
   "id": "920cd8f4-2aa4-4352-8976-575fdc96dcb4",
   "metadata": {},
   "outputs": [],
   "source": [
    "import numpy as np\n",
    "import pandas as pd\n",
    "import config\n",
    "import argparse\n",
    "import os\n",
    "import shutil\n",
    "\n",
    "from math import sqrt\n",
    "from util import *"
   ]
  },
  {
   "cell_type": "markdown",
   "id": "fe73f8e3-ca16-4588-ac07-2c08dfe1706a",
   "metadata": {},
   "source": [
    "# define global params "
   ]
  },
  {
   "cell_type": "code",
   "execution_count": 3,
   "id": "30f80bf2-1809-4a4d-9e5d-5186fc751ae0",
   "metadata": {},
   "outputs": [],
   "source": [
    "wd = config.wd\n",
    "od = config.od\n",
    "\n",
    "prefix_list = config.prefix_list"
   ]
  },
  {
   "cell_type": "markdown",
   "id": "509c3116-b06d-465d-b7a1-5a136cb5327e",
   "metadata": {},
   "source": [
    "# define constants"
   ]
  },
  {
   "cell_type": "code",
   "execution_count": 5,
   "id": "25490d2f-4f3c-4031-8051-4b4bab4711fc",
   "metadata": {},
   "outputs": [],
   "source": [
    "H_gyro = 2*np.pi*42.57748*1e6     ## Gyromagnetic Ratio: Hydrogen ([rad]/[s][T]) \n",
    "N_gyro = -2*np.pi*4.317267*1e6    ## Gyromagnetic Ratio: Nitrogen ([rad]/[s][T])\n",
    "B0 = config.B0                         ## Field Strength = 18.8 for 800MHz[Teslas] 19.9 for 850MHz \n",
    "vn = 4.317267 * B0 * 1e6          ##resonance frequency of 15N in Hz, note this change with magnetic field B0."
   ]
  },
  {
   "cell_type": "markdown",
   "id": "60795599-086c-495c-850b-55f796d6bf4d",
   "metadata": {},
   "source": [
    "# Need 5 Frequencies: ## J[0], J[wH], J[wN], J[wH-wN], J[wH+wN]"
   ]
  },
  {
   "cell_type": "code",
   "execution_count": 7,
   "id": "bccd60ee-0904-4682-a350-f4658eac1449",
   "metadata": {},
   "outputs": [],
   "source": [
    "Larmor1H = H_gyro*B0              ## Larmor Frequency: Hydrogen ([rad]/[s])\n",
    "Larmor15N = N_gyro*B0             ## Larmor Frequency: Hydrogen ([rad]/[s])\n",
    "omDiff = Larmor1H - Larmor15N    ## Diff in Larmor Frequencies of Spin IS\n",
    "omSum  = Larmor1H + Larmor15N    ## Sum of Larmor Frequencies of Spin IS"
   ]
  },
  {
   "cell_type": "code",
   "execution_count": 8,
   "id": "c464079c-60f5-4549-9312-178a0bf78907",
   "metadata": {},
   "outputs": [],
   "source": [
    "mu_0 = 4*np.pi*1e-7    ; ## Permeability of Free Space: ([H]/[m]) X\n",
    "hbar = 1.0545718e-34  ; ## Reduced Plank's constant: [J] * [s] = [kg] * [m^2] * [s^-1]\n",
    "\n",
    "R_NH = 1.02e-10                     ## distance between N-H atoms in Angstroms\n",
    "dSigmaN = -170e-6               ##  CSA of the S-spin atom N = -170 ppm\n",
    "\n",
    "FDD = (1./4.)*np.power((mu_0*hbar*H_gyro*N_gyro)/(4*np.pi*np.power(R_NH,3)),2) \n",
    "FCSA = (1.0/3.0)*(Larmor15N**2)*(dSigmaN**2) #(2.0/15.0)*(Larmor15N**2)*(dSigmaN**2)        ## CSA factor "
   ]
  },
  {
   "cell_type": "markdown",
   "id": "5d3eb31d-a50c-4bff-854d-5edf16a4fb3c",
   "metadata": {},
   "source": [
    "# wrap up function"
   ]
  },
  {
   "cell_type": "code",
   "execution_count": 10,
   "id": "c64b891d-9524-4e64-8cfd-305e01078b99",
   "metadata": {},
   "outputs": [],
   "source": [
    "###### warp up function ######\n",
    "def gen_nmr_relaxation(FTOPN, FMDN, prefix):\n",
    "    NH_Res_Fname = od + prefix + '_NH_Res.csv'\n",
    "    CtOutFname = od + prefix + '_NH_Ct.csv'\n",
    "    dCtOutFname = od + prefix + '_NH_dCt.csv'\n",
    "\n",
    "    CtInName = od + prefix + '_NH_Ct.csv'\n",
    "    dCtInName = od + prefix + '_NH_dCt.csv'\n",
    "\n",
    "    DF_name = od + prefix + '_Relaxtion.csv'\n",
    "        \n",
    "    ## Calculate the NHVecs; Can be adapted to loop over multiple trajectories using TRAJLIST_LOC\n",
    "    NHVecs = []\n",
    "    NHV,NHRes = calc_NHVecs(FMDN, FTOPN, config.resid) #normalized N-H vectors.\n",
    "    NHVecs.append(NHV)\n",
    "    \n",
    "    NH_Res_df = pd.DataFrame(NHRes, columns=[\"NH_Res\"])\n",
    "    NH_Res_df.to_csv(NH_Res_Fname)\n",
    "    \n",
    "    dt = config.dt #we use 100 ps ## timestep of trajectories: (ps)\n",
    "    print('Total frames of MD trajectory loaded: ', np.array(NHVecs).shape[1])\n",
    "    n_split = config.n_split\n",
    "    tau_split = np.array(NHVecs).shape[1]*dt/n_split #time (ps) of splited trajectories.\n",
    "\n",
    "    ## Split the vecs based off the tau_split you want and the time step. \n",
    "    vecs_split = split_NHVecs(NHVecs, dt, tau_split) \n",
    "    #print('After spliting it', n_split, ' times, the N-H vector now has a shape:', vecs_split.shape)\n",
    "    #print(\"shape of the N-H vector: [num_of_split, frames_in_each_trunk, num_of_calc_residues, xyz_coor]\")\n",
    "    \n",
    "    ## Calculate the correlation functions and the standard deviation in the correlation function.\n",
    "    ## Save the correlation functions in a dataframe and then to a csv file for later use.\n",
    "    Ct, dCt = calc_Ct(vecs_split)\n",
    "    CtDF = pd.DataFrame(Ct, index = np.arange(1, Ct.shape[0]+1)*dt/1000) #this is the calculated correlation function dataframe.\n",
    "    dCtDF = pd.DataFrame(dCt, index = np.arange(1, dCt.shape[0]+1)*dt/1000)\n",
    "    CtDF.to_csv(CtOutFname)\n",
    "    dCtDF.to_csv(dCtOutFname)\n",
    "    \n",
    "    CtDF = pd.read_csv(CtInName, index_col=0)\n",
    "    dCtDF = pd.read_csv(dCtInName, index_col=0)\n",
    "    #print(CtDF.shape)\n",
    "        \n",
    "    parameters_list = [4] ## A, tau_A, B, tau_B, (1-A-B), tau_C\n",
    "    thresh=1.0 ## default\n",
    "    FitDF = fitCorrF(CtDF, dCtDF, config.tau_max, parameters_list, thresh)\n",
    "    \n",
    "    ## Calculate spectral density from the FitDF by calling the J_direct_transform function for each of the 5 frequencies.\n",
    "    ## Loop over the rows of the FitDF dataframe from fitCorrF function and calcuate the spectral densities.\n",
    "    ## Save the spectral densities to a dictionary and append to a list.\n",
    "    Jarr = [] # array of dictionaries.\n",
    "\n",
    "    for i,fit in FitDF.iterrows():\n",
    "        c = fit[['C_a','C_b','C_g','C_d']].values\n",
    "        t = fit[['tau_a','tau_b','tau_g','tau_d']].values\n",
    "        Jdict = {'0':0, '1H':0,'15N':0,'Sum':0,'Diff':0} \n",
    "        J0 = J_direct_transform(0, c, t)\n",
    "        JH = J_direct_transform(Larmor1H, c, t)\n",
    "        JN = J_direct_transform(Larmor15N, c, t)\n",
    "        JSum = J_direct_transform(omSum,  c, t)\n",
    "        JDiff = J_direct_transform(omDiff,  c, t)\n",
    "        Jdict['1H'] = JH ; Jdict['15N'] = JN; Jdict['0'] = J0; \n",
    "        Jdict['Sum'] = JSum; Jdict['Diff'] = JDiff;\n",
    "        Jarr.append(Jdict)\n",
    "        \n",
    "    ## Calculate NMR relaxation parameters for each residue by calling calc_NMR_relax \n",
    "    ## Save the T1, T2 and NOE parameters to a dataframe\n",
    "    NMRRelaxDF = pd.DataFrame(np.zeros((len(Jarr),7)),index=range(1,len(Jarr)+1), columns=['T1','T2','NOE','T1/T2','R1','R2','tau_c'])\n",
    "    for index in range(1,len(Jarr)+1):\n",
    "        r1, r2, noe = calc_NMR_Relax(Jarr[index-1], FDD, FCSA, H_gyro, N_gyro)\n",
    "        NMRRelaxDF.loc[index,'T1'] = 1/r1; \n",
    "        NMRRelaxDF.loc[index,'T2'] = 1/r2; \n",
    "        NMRRelaxDF.loc[index,'NOE'] = noe;\n",
    "        NMRRelaxDF.loc[index,'T1/T2'] = r2/r1;\n",
    "        NMRRelaxDF.loc[index,'R1'] = r1; \n",
    "        NMRRelaxDF.loc[index,'R2'] = r2;\n",
    "        #NMRRelaxDF.loc[index,'tau_c'] = 1/(4*np.pi*vn) * sqrt(6*(r2/r1)-7) * 1e9; #note the tau_c is in ns.\n",
    "        try:\n",
    "            # Attempt to calculate tau_c\n",
    "            NMRRelaxDF.loc[index, 'tau_c'] = 1/(4*np.pi*vn) * np.sqrt(6*(r2/r1)-7) * 1e9\n",
    "        except (ValueError, ZeroDivisionError) as e:\n",
    "            # Handle mathematical errors (negative sqrt or division by zero)\n",
    "            print(f\"Error calculating tau_c: {e}. Reason: Expression sqrt(6*(r2/r1)-7) is invalid (r1={r1}, r2={r2})\")\n",
    "            NMRRelaxDF.loc[index, 'tau_c'] = 'NA'  # Set to 'NA'\n",
    "        except Exception as e:\n",
    "            # Catch other potential exceptions\n",
    "            print(f\"Unexpected error occurred while calculating tau_c: {e}\")\n",
    "            NMRRelaxDF.loc[index, 'tau_c'] = 'NA'\n",
    "            \n",
    "        \n",
    "    NMRRelaxDF['Resname'] = FitDF['Resname'].values\n",
    "    NMRRelaxDF['RESNUM'] = NMRRelaxDF['Resname'].str.extract('([0-9]+)',expand=False).astype('int')+1\n",
    "    \n",
    "    ## Merge the NMR relaxation dataframes with the FitDF dataframe\n",
    "    FitRelaxDF = FitDF.merge(NMRRelaxDF, how='left', left_on='Resname',right_on='Resname').set_index(NMRRelaxDF.index)\n",
    "    ## Save FitRelaxDF to a csv file\n",
    "    FitRelaxDF.to_csv(DF_name)"
   ]
  },
  {
   "cell_type": "code",
   "execution_count": 23,
   "id": "1ae12645-5d2e-43bd-b2be-d3355ad18692",
   "metadata": {},
   "outputs": [],
   "source": [
    "def main(batch, topo=None, traj=None):\n",
    "    print(\"###############    Software starting now.    ###############\")\n",
    "    print(\"Input arguments and config currently using:\")\n",
    "    print(f\"batch: {batch}\")\n",
    "    if not batch:\n",
    "        print(f\"topo: {topo}\")\n",
    "        print(f\"traj: {traj}\")\n",
    "\n",
    "    for key, value in config.__dict__.items():\n",
    "        if not key.startswith(\"__\"):\n",
    "            print(f\"{key}: {value}\")\n",
    "\n",
    "    print(\"###############    Calculation starting...    ###############\")\n",
    "    \n",
    "    if batch:\n",
    "        print('Calculation using batch style.')\n",
    "        print('Following files will be used in calculation:')\n",
    "        print([os.path.join(wd, prefix + '.pdb') for prefix in config.prefix_list])\n",
    "        \n",
    "        for prefix in config.prefix_list:\n",
    "            print(f'Generating NMR relaxation for: {prefix}')\n",
    "            FTOPN = os.path.join(wd, prefix + '.pdb')\n",
    "            FMDN = os.path.join(wd, prefix + '.xtc')\n",
    "            gen_nmr_relaxation(FTOPN, FMDN, prefix)\n",
    "    else:\n",
    "        print('Calculation using single traj style.')\n",
    "        FTOPN = os.path.join(wd, str(topo))\n",
    "        FMDN = os.path.join(wd, str(traj))\n",
    "        prefix = traj[:-4] #define the prefix for output files.\n",
    "        gen_nmr_relaxation(FTOPN, FMDN, prefix)\n",
    "\n",
    "    print(\"###############    Calculation completed. Software exiting...    ###############\")\n"
   ]
  },
  {
   "cell_type": "code",
   "execution_count": 24,
   "id": "21aece1a-fd55-48da-9fbf-bf56b8be22ec",
   "metadata": {},
   "outputs": [],
   "source": [
    "batch_mode = False\n",
    "topo_file = 'vanilla_run1.pdb'\n",
    "traj_file = 'vanilla_run1.xtc'"
   ]
  },
  {
   "cell_type": "code",
   "execution_count": 28,
   "id": "3150b569-80d6-4bf8-b819-909c7a7fd778",
   "metadata": {},
   "outputs": [
    {
     "name": "stdout",
     "output_type": "stream",
     "text": [
      "###############    Software starting now.    ###############\n",
      "Input arguments and config currently using:\n",
      "batch: False\n",
      "topo: vanilla_run1.pdb\n",
      "traj: vanilla_run1.xtc\n",
      "n_split: 20\n",
      "tau_max: 1.8\n",
      "B0: 14.1\n",
      "resid: [[0, 10]]\n",
      "use_chain_ids: False\n",
      "chain_ids: ['C', 'G']\n",
      "wd: ../data/\n",
      "od: ../\n",
      "dt: 100\n",
      "n_exp: 3\n",
      "use_align: True\n",
      "tumbling_time: None\n",
      "prefix_list: ['vanilla_run1']\n",
      "###############    Calculation starting...    ###############\n",
      "Calculation using single traj style.\n",
      "Loading trajectory...\n",
      "Trajectory loaded.\n",
      "Aligning trajectory...\n",
      "Alignment completed.\n",
      "Total frames of MD trajectory loaded:  22406\n",
      "vec shape after split: (20, 1120, 11, 3)\n",
      "###############    Calculation completed. Software exiting...    ###############\n"
     ]
    }
   ],
   "source": [
    "main(batch=batch_mode, topo=topo_file, traj=traj_file)"
   ]
  },
  {
   "cell_type": "code",
   "execution_count": null,
   "id": "1fd873c6-1604-43dd-8bff-dc05fddfe145",
   "metadata": {},
   "outputs": [],
   "source": []
  }
 ],
 "metadata": {
  "kernelspec": {
   "display_name": "Python [conda env:base] *",
   "language": "python",
   "name": "conda-base-py"
  },
  "language_info": {
   "codemirror_mode": {
    "name": "ipython",
    "version": 3
   },
   "file_extension": ".py",
   "mimetype": "text/x-python",
   "name": "python",
   "nbconvert_exporter": "python",
   "pygments_lexer": "ipython3",
   "version": "3.10.14"
  }
 },
 "nbformat": 4,
 "nbformat_minor": 5
}
